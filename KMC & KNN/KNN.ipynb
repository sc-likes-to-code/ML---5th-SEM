{
  "nbformat": 4,
  "nbformat_minor": 0,
  "metadata": {
    "colab": {
      "provenance": []
    },
    "kernelspec": {
      "name": "python3",
      "display_name": "Python 3"
    },
    "language_info": {
      "name": "python"
    }
  },
  "cells": [
    {
      "cell_type": "code",
      "execution_count": null,
      "metadata": {
        "id": "9k3k8khnO27Y"
      },
      "outputs": [],
      "source": [
        "import math\n",
        "from collections import Counter"
      ]
    },
    {
      "cell_type": "code",
      "source": [
        "def distance(point1, point2):\n",
        "    total = 0\n",
        "    for i in range(len(point1)):\n",
        "        total += (point1[i] - point2[i]) ** 2\n",
        "    return math.sqrt(total)"
      ],
      "metadata": {
        "id": "9clsV94LPCjo"
      },
      "execution_count": null,
      "outputs": []
    },
    {
      "cell_type": "code",
      "source": [
        "def knn(train_data, train_labels, test_point, k=3):\n",
        "    # Store distances (point, distance)\n",
        "    distances = []\n",
        "    for i in range(len(train_data)):\n",
        "        d = distance(test_point, train_data[i])\n",
        "        distances.append((d, train_labels[i]))\n",
        "\n",
        "    # Sort by distance (smallest first)\n",
        "    distances.sort(key=lambda x: x[0])\n",
        "\n",
        "    # Pick the first k neighbors\n",
        "    neighbors = [label for (_, label) in distances[:k]]\n",
        "\n",
        "    # Return the most common class\n",
        "    prediction = Counter(neighbors).most_common(1)[0][0]\n",
        "    return prediction"
      ],
      "metadata": {
        "id": "S-FYsUHzPFBI"
      },
      "execution_count": null,
      "outputs": []
    },
    {
      "cell_type": "code",
      "source": [
        "train_data = [\n",
        "    [1, 2], [2, 3], [3, 1],   # Class 0\n",
        "    [6, 5], [7, 7], [8, 6]    # Class 1\n",
        "]\n",
        "train_labels = [0, 0, 0, 1, 1, 1]  # Corresponding labels"
      ],
      "metadata": {
        "id": "pNtf38NcPIM5"
      },
      "execution_count": null,
      "outputs": []
    },
    {
      "cell_type": "code",
      "source": [
        "test_point = [5, 5]\n",
        "prediction = knn(train_data, train_labels, test_point, k=3)\n",
        "print(\"Test Point:\", test_point, \"=> Predicted Class:\", prediction)"
      ],
      "metadata": {
        "colab": {
          "base_uri": "https://localhost:8080/"
        },
        "id": "muwK1LszPLVb",
        "outputId": "3e68bcd3-f5cf-40ec-d233-b7476febad84"
      },
      "execution_count": null,
      "outputs": [
        {
          "output_type": "stream",
          "name": "stdout",
          "text": [
            "Test Point: [5, 5] => Predicted Class: 1\n"
          ]
        }
      ]
    },
    {
      "cell_type": "code",
      "source": [
        "test_points = [[2, 2], [6, 6], [4, 4], [7, 5]]\n",
        "for pt in test_points:\n",
        "    pred = knn(train_data, train_labels, pt, k=3)\n",
        "    print(\"Test Point:\", pt, \"=> Predicted Class:\", pred)"
      ],
      "metadata": {
        "colab": {
          "base_uri": "https://localhost:8080/"
        },
        "id": "vYOM0ttNPPjB",
        "outputId": "a95ba889-fc82-4a5f-88b8-5cf8379e5edc"
      },
      "execution_count": null,
      "outputs": [
        {
          "output_type": "stream",
          "name": "stdout",
          "text": [
            "Test Point: [2, 2] => Predicted Class: 0\n",
            "Test Point: [6, 6] => Predicted Class: 1\n",
            "Test Point: [4, 4] => Predicted Class: 0\n",
            "Test Point: [7, 5] => Predicted Class: 1\n"
          ]
        }
      ]
    }
  ]
}