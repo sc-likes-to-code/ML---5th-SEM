{
  "nbformat": 4,
  "nbformat_minor": 0,
  "metadata": {
    "colab": {
      "provenance": []
    },
    "kernelspec": {
      "name": "python3",
      "display_name": "Python 3"
    },
    "language_info": {
      "name": "python"
    }
  },
  "cells": [
    {
      "cell_type": "code",
      "execution_count": null,
      "metadata": {
        "id": "9k3k8khnO27Y"
      },
      "outputs": [],
      "source": [
        "import math\n",
        "from collections import Counter"
      ]
    },
    {
      "cell_type": "code",
      "source": [
        "# Distance function\n",
        "def distance(p1, p2):\n",
        "    return math.sqrt(sum((x - y) ** 2 for x, y in zip(p1, p2)))"
      ],
      "metadata": {
        "id": "9clsV94LPCjo"
      },
      "execution_count": 8,
      "outputs": []
    },
    {
      "cell_type": "code",
      "source": [
        "# KNN function\n",
        "def knn(train_data, test_point, k=3):\n",
        "    distances = []\n",
        "    for features, label in train_data:\n",
        "        d = distance(features, test_point)\n",
        "        distances.append((d, label))\n",
        "\n",
        "    # Sort by distance\n",
        "    distances.sort(key=lambda x: x[0])\n",
        "\n",
        "    # Pick k nearest neighbors\n",
        "    k_nearest = distances[:k]\n",
        "\n",
        "    # Majority vote\n",
        "    labels = [label for _, label in k_nearest]\n",
        "    most_common = Counter(labels).most_common(1)[0][0]\n",
        "    return most_common"
      ],
      "metadata": {
        "id": "S-FYsUHzPFBI"
      },
      "execution_count": 9,
      "outputs": []
    },
    {
      "cell_type": "code",
      "source": [
        "def main():\n",
        "    # Training data (features, label)\n",
        "    train_data = [\n",
        "        ([1, 2], \"ClassA\"),\n",
        "        ([2, 3], \"ClassA\"),\n",
        "        ([3, 3], \"ClassA\"),\n",
        "        ([6, 8], \"ClassB\"),\n",
        "        ([7, 7], \"ClassB\"),\n",
        "        ([8, 9], \"ClassB\")\n",
        "    ]\n",
        "\n",
        "    # Test data with some tricky points\n",
        "    test_data = [\n",
        "        ([1.5, 2.0], \"ClassA\"),   # should be ClassA\n",
        "        ([2.5, 3.0], \"ClassA\"),   # should be ClassA\n",
        "        ([7.0, 8.0], \"ClassB\"),   # should be ClassB\n",
        "        ([5.0, 5.0], \"ClassA\"),   # ambiguous → might get misclassified\n",
        "        ([6.5, 6.5], \"ClassA\"),   # closer to ClassB cluster → will likely be wrong\n",
        "    ]\n",
        "\n",
        "    # Evaluate error rate\n",
        "    k = 3\n",
        "    errors = 0\n",
        "    for features, true_label in test_data:\n",
        "        pred = knn(train_data, features, k)\n",
        "        print(f\"Point {features} → Predicted: {pred}, Actual: {true_label}\")\n",
        "        if pred != true_label:\n",
        "            errors += 1\n",
        "\n",
        "    total = len(test_data)\n",
        "    error_rate = errors / total\n",
        "\n",
        "    print(\"\\nTotal Test Points:\", total)\n",
        "    print(\"Errors:\", errors)\n",
        "    print(\"Error Rate:\", error_rate)\n",
        "    print(\"Accuracy:\", 1 - error_rate)"
      ],
      "metadata": {
        "id": "pNtf38NcPIM5"
      },
      "execution_count": 10,
      "outputs": []
    },
    {
      "cell_type": "code",
      "source": [
        "if __name__ == \"__main__\":\n",
        "    main()"
      ],
      "metadata": {
        "colab": {
          "base_uri": "https://localhost:8080/"
        },
        "id": "muwK1LszPLVb",
        "outputId": "08bfbb3b-df92-4043-d3fa-8420639f6080"
      },
      "execution_count": 11,
      "outputs": [
        {
          "output_type": "stream",
          "name": "stdout",
          "text": [
            "Point [1.5, 2.0] → Predicted: ClassA, Actual: ClassA\n",
            "Point [2.5, 3.0] → Predicted: ClassA, Actual: ClassA\n",
            "Point [7.0, 8.0] → Predicted: ClassB, Actual: ClassB\n",
            "Point [5.0, 5.0] → Predicted: ClassB, Actual: ClassA\n",
            "Point [6.5, 6.5] → Predicted: ClassB, Actual: ClassA\n",
            "\n",
            "Total Test Points: 5\n",
            "Errors: 2\n",
            "Error Rate: 0.4\n",
            "Accuracy: 0.6\n"
          ]
        }
      ]
    }
  ]
}