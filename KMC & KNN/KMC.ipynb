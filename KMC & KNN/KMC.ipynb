{
  "nbformat": 4,
  "nbformat_minor": 0,
  "metadata": {
    "colab": {
      "provenance": []
    },
    "kernelspec": {
      "name": "python3",
      "display_name": "Python 3"
    },
    "language_info": {
      "name": "python"
    }
  },
  "cells": [
    {
      "cell_type": "code",
      "execution_count": 1,
      "metadata": {
        "id": "zkiImCbfTKtY"
      },
      "outputs": [],
      "source": [
        "import random\n",
        "import math"
      ]
    },
    {
      "cell_type": "code",
      "source": [
        "# Function to calculate Euclidean distance between two points\n",
        "def distance(point1, point2):\n",
        "    total = 0\n",
        "    # Loop through each dimension\n",
        "    for i in range(len(point1)):\n",
        "        total += (point1[i] - point2[i]) ** 2\n",
        "    return math.sqrt(total)"
      ],
      "metadata": {
        "id": "w3k2EXHUTjdt"
      },
      "execution_count": 2,
      "outputs": []
    },
    {
      "cell_type": "code",
      "source": [
        "# Function to calculate the mean (centroid) of a cluster\n",
        "def mean(points):\n",
        "    n = len(points)           # Number of points in the cluster\n",
        "    dims = len(points[0])     # Number of dimensions\n",
        "    result = []\n",
        "    for i in range(dims):\n",
        "        s = 0\n",
        "        for j in range(n):\n",
        "            s += points[j][i]   # Sum values of the i-th dimension\n",
        "        result.append(s / n)     # Divide by number of points to get mean\n",
        "    return result"
      ],
      "metadata": {
        "id": "alX-wlIjTl7l"
      },
      "execution_count": 3,
      "outputs": []
    },
    {
      "cell_type": "code",
      "source": [
        "# K-Means algorithm\n",
        "def kmeans(data, k, max_iters=100):\n",
        "    #Randomly select k initial centroids from the data\n",
        "    centroids = random.sample(data, k)\n",
        "\n",
        "    #Repeat until it reaches the max_iters\n",
        "    for x in range(max_iters):\n",
        "        #Create empty clusters\n",
        "        clusters = []\n",
        "        for i in range(k):\n",
        "            clusters.append([])\n",
        "\n",
        "        #Assign each point to the nearest centroid\n",
        "        for point in data:\n",
        "            distances = []\n",
        "            for c in centroids:\n",
        "                d = distance(point, c)\n",
        "                distances.append(d)\n",
        "            min_index = distances.index(min(distances))  # Index of nearest centroid\n",
        "            clusters[min_index].append(point)\n",
        "\n",
        "        #Recalculate centroids of each cluster\n",
        "        new_centroids = []\n",
        "        for cluster in clusters:\n",
        "            if cluster:  # If cluster is not empty\n",
        "                new_c = mean(cluster)\n",
        "            else:        # If cluster is empty, pick a random point as centroid\n",
        "                new_c = random.choice(data)\n",
        "            new_centroids.append(new_c)\n",
        "\n",
        "        # Check if centroids didn't change\n",
        "        if new_centroids == centroids:\n",
        "            break\n",
        "\n",
        "        centroids = new_centroids\n",
        "\n",
        "    return centroids, clusters"
      ],
      "metadata": {
        "id": "w-tEOzEJToIo"
      },
      "execution_count": 4,
      "outputs": []
    },
    {
      "cell_type": "code",
      "source": [
        "# Example usage\n",
        "data = [\n",
        "    [1, 2], [1.5, 1.8], [5, 8],\n",
        "    [8, 8], [1, 0.6], [9, 11],\n",
        "    [8, 2], [10, 2], [9, 3]\n",
        "]"
      ],
      "metadata": {
        "id": "e5vlIGo6TsVT"
      },
      "execution_count": 5,
      "outputs": []
    },
    {
      "cell_type": "code",
      "source": [
        "# Run K-Means with k=3 clusters\n",
        "final_centroids, final_clusters = kmeans(data, k=3)"
      ],
      "metadata": {
        "id": "yJBGdupBTvk4"
      },
      "execution_count": 6,
      "outputs": []
    },
    {
      "cell_type": "code",
      "source": [
        "#Print final centroids\n",
        "print(\"Centroids:\")\n",
        "for c in final_centroids:\n",
        "    print(c)"
      ],
      "metadata": {
        "colab": {
          "base_uri": "https://localhost:8080/"
        },
        "id": "sX8UFV3ETyQA",
        "outputId": "d630b199-561a-476e-cca9-137cdd31baa2"
      },
      "execution_count": 7,
      "outputs": [
        {
          "output_type": "stream",
          "name": "stdout",
          "text": [
            "Centroids:\n",
            "[1.1666666666666667, 1.4666666666666666]\n",
            "[7.333333333333333, 9.0]\n",
            "[9.0, 2.3333333333333335]\n"
          ]
        }
      ]
    },
    {
      "cell_type": "code",
      "source": [
        "#Print clusters\n",
        "print(\"\\nClusters:\")\n",
        "for i, cluster in enumerate(final_clusters):\n",
        "    print(\"Cluster\", i+1, \":\", cluster)"
      ],
      "metadata": {
        "colab": {
          "base_uri": "https://localhost:8080/"
        },
        "id": "i_NEm8EFT2vw",
        "outputId": "1c1e577f-ed0a-4a69-f483-9b3cfe5324f3"
      },
      "execution_count": 8,
      "outputs": [
        {
          "output_type": "stream",
          "name": "stdout",
          "text": [
            "\n",
            "Clusters:\n",
            "Cluster 1 : [[1, 2], [1.5, 1.8], [1, 0.6]]\n",
            "Cluster 2 : [[5, 8], [8, 8], [9, 11]]\n",
            "Cluster 3 : [[8, 2], [10, 2], [9, 3]]\n"
          ]
        }
      ]
    }
  ]
}